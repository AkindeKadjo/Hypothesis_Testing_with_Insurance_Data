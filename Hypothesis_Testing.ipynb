{
 "cells": [
  {
   "cell_type": "markdown",
   "id": "e6bce5ce",
   "metadata": {},
   "source": [
    "Akinde Kadjo"
   ]
  },
  {
   "cell_type": "markdown",
   "id": "b76f4c5b",
   "metadata": {},
   "source": [
    "**Background:**\n",
    "\n",
    "This dataset from [Kaggle](https://www.kaggle.com/datasets/teertha/ushealthinsurancedataset) contains 1338 rows of insured data, where the Insurance charges are given against the following attributes of the insured: Age, Sex, BMI, Number of Children, Smoker and Region. \n",
    "\n",
    "I will use hypothesis testing to answer the following questions:\n",
    "\n",
    "- Q1. Do smokers have higher insurance charges than non-smokers?\n",
    "- Q2. Are men more likely to smoke than women?\n",
    "- Q3. Do different regions have different charges, on average?"
   ]
  },
  {
   "cell_type": "markdown",
   "id": "bef878ee",
   "metadata": {},
   "source": [
    "# Imports and Data Loading"
   ]
  },
  {
   "cell_type": "code",
   "execution_count": 36,
   "id": "4fa12aaa",
   "metadata": {},
   "outputs": [],
   "source": [
    "#Importing all of the libraries that may be needed for the project\n",
    "import matplotlib.pyplot as plt\n",
    "import seaborn as sns\n",
    "import pandas as pd\n",
    "import numpy as np\n",
    "\n",
    "import scipy.stats as stats\n",
    "from scipy.stats import levene\n",
    "from statsmodels.stats.multicomp import pairwise_tukeyhsd"
   ]
  },
  {
   "cell_type": "code",
   "execution_count": 4,
   "id": "826382ce",
   "metadata": {},
   "outputs": [],
   "source": [
    "#Loading the data from the url\n",
    "insurance_url=\"https://docs.google.com/spreadsheets/d/e/2PACX-1vQBN8DPW2rdiRrY34eEM53HAzakNGSRrw4ogI-j8HyCUrbqTB_z4CeIn2IvjLF-w_6sOe5pIlypJGAA/pub?output=csv\"\n",
    "insurance = pd.read_csv(insurance_url, sep=',', low_memory=False)"
   ]
  },
  {
   "cell_type": "code",
   "execution_count": 5,
   "id": "de59114f",
   "metadata": {},
   "outputs": [
    {
     "data": {
      "text/html": [
       "<div>\n",
       "<style scoped>\n",
       "    .dataframe tbody tr th:only-of-type {\n",
       "        vertical-align: middle;\n",
       "    }\n",
       "\n",
       "    .dataframe tbody tr th {\n",
       "        vertical-align: top;\n",
       "    }\n",
       "\n",
       "    .dataframe thead th {\n",
       "        text-align: right;\n",
       "    }\n",
       "</style>\n",
       "<table border=\"1\" class=\"dataframe\">\n",
       "  <thead>\n",
       "    <tr style=\"text-align: right;\">\n",
       "      <th></th>\n",
       "      <th>age</th>\n",
       "      <th>sex</th>\n",
       "      <th>bmi</th>\n",
       "      <th>children</th>\n",
       "      <th>smoker</th>\n",
       "      <th>region</th>\n",
       "      <th>charges</th>\n",
       "    </tr>\n",
       "  </thead>\n",
       "  <tbody>\n",
       "    <tr>\n",
       "      <th>0</th>\n",
       "      <td>19</td>\n",
       "      <td>female</td>\n",
       "      <td>27.900</td>\n",
       "      <td>0</td>\n",
       "      <td>yes</td>\n",
       "      <td>southwest</td>\n",
       "      <td>16884.92400</td>\n",
       "    </tr>\n",
       "    <tr>\n",
       "      <th>1</th>\n",
       "      <td>18</td>\n",
       "      <td>male</td>\n",
       "      <td>33.770</td>\n",
       "      <td>1</td>\n",
       "      <td>no</td>\n",
       "      <td>southeast</td>\n",
       "      <td>1725.55230</td>\n",
       "    </tr>\n",
       "    <tr>\n",
       "      <th>2</th>\n",
       "      <td>28</td>\n",
       "      <td>male</td>\n",
       "      <td>33.000</td>\n",
       "      <td>3</td>\n",
       "      <td>no</td>\n",
       "      <td>southeast</td>\n",
       "      <td>4449.46200</td>\n",
       "    </tr>\n",
       "    <tr>\n",
       "      <th>3</th>\n",
       "      <td>33</td>\n",
       "      <td>male</td>\n",
       "      <td>22.705</td>\n",
       "      <td>0</td>\n",
       "      <td>no</td>\n",
       "      <td>northwest</td>\n",
       "      <td>21984.47061</td>\n",
       "    </tr>\n",
       "    <tr>\n",
       "      <th>4</th>\n",
       "      <td>32</td>\n",
       "      <td>male</td>\n",
       "      <td>28.880</td>\n",
       "      <td>0</td>\n",
       "      <td>no</td>\n",
       "      <td>northwest</td>\n",
       "      <td>3866.85520</td>\n",
       "    </tr>\n",
       "  </tbody>\n",
       "</table>\n",
       "</div>"
      ],
      "text/plain": [
       "   age     sex     bmi  children smoker     region      charges\n",
       "0   19  female  27.900         0    yes  southwest  16884.92400\n",
       "1   18    male  33.770         1     no  southeast   1725.55230\n",
       "2   28    male  33.000         3     no  southeast   4449.46200\n",
       "3   33    male  22.705         0     no  northwest  21984.47061\n",
       "4   32    male  28.880         0     no  northwest   3866.85520"
      ]
     },
     "execution_count": 5,
     "metadata": {},
     "output_type": "execute_result"
    }
   ],
   "source": [
    "insurance.head()"
   ]
  },
  {
   "cell_type": "markdown",
   "id": "6282321e",
   "metadata": {},
   "source": [
    "# Data Cleaning"
   ]
  },
  {
   "cell_type": "code",
   "execution_count": 6,
   "id": "8ed5b1b6",
   "metadata": {},
   "outputs": [],
   "source": [
    "#making a copy\n",
    "df= insurance.copy()"
   ]
  },
  {
   "cell_type": "code",
   "execution_count": 7,
   "id": "c90a7653",
   "metadata": {},
   "outputs": [
    {
     "name": "stdout",
     "output_type": "stream",
     "text": [
      "<class 'pandas.core.frame.DataFrame'>\n",
      "RangeIndex: 1338 entries, 0 to 1337\n",
      "Data columns (total 7 columns):\n",
      " #   Column    Non-Null Count  Dtype  \n",
      "---  ------    --------------  -----  \n",
      " 0   age       1338 non-null   int64  \n",
      " 1   sex       1338 non-null   object \n",
      " 2   bmi       1338 non-null   float64\n",
      " 3   children  1338 non-null   int64  \n",
      " 4   smoker    1338 non-null   object \n",
      " 5   region    1338 non-null   object \n",
      " 6   charges   1338 non-null   float64\n",
      "dtypes: float64(2), int64(2), object(3)\n",
      "memory usage: 73.3+ KB\n"
     ]
    }
   ],
   "source": [
    "df.info()"
   ]
  },
  {
   "cell_type": "markdown",
   "id": "c62319d7",
   "metadata": {},
   "source": [
    "There is  no missing data"
   ]
  },
  {
   "cell_type": "code",
   "execution_count": 8,
   "id": "fde4a2f1",
   "metadata": {},
   "outputs": [
    {
     "data": {
      "text/plain": [
       "1"
      ]
     },
     "execution_count": 8,
     "metadata": {},
     "output_type": "execute_result"
    }
   ],
   "source": [
    "#checking for duplicate \n",
    "df.duplicated().sum()"
   ]
  },
  {
   "cell_type": "code",
   "execution_count": 9,
   "id": "2ac20420",
   "metadata": {},
   "outputs": [
    {
     "data": {
      "text/plain": [
       "0"
      ]
     },
     "execution_count": 9,
     "metadata": {},
     "output_type": "execute_result"
    }
   ],
   "source": [
    "#dropping duplicates and checking again\n",
    "df = df.drop_duplicates()\n",
    "df.duplicated().sum()"
   ]
  },
  {
   "cell_type": "code",
   "execution_count": 10,
   "id": "d6c1ad14",
   "metadata": {},
   "outputs": [
    {
     "name": "stdout",
     "output_type": "stream",
     "text": [
      "- Column= sex\n",
      "male      675\n",
      "female    662\n",
      "Name: sex, dtype: int64\n",
      "\n",
      "\n",
      "\n",
      "- Column= smoker\n",
      "no     1063\n",
      "yes     274\n",
      "Name: smoker, dtype: int64\n",
      "\n",
      "\n",
      "\n",
      "- Column= region\n",
      "southeast    364\n",
      "southwest    325\n",
      "northwest    324\n",
      "northeast    324\n",
      "Name: region, dtype: int64\n",
      "\n",
      "\n",
      "\n"
     ]
    }
   ],
   "source": [
    "#Identifying and addressing any inconsistencies in categorical values\n",
    "dtypes = df.dtypes\n",
    "str_cols = dtypes[dtypes=='object'].index\n",
    "for col in str_cols:\n",
    "    print(f\"- Column= {col}\")\n",
    "    print(df[col].value_counts(dropna=False))\n",
    "    print('\\n\\n')"
   ]
  },
  {
   "cell_type": "markdown",
   "id": "05ce60e0",
   "metadata": {},
   "source": [
    "# Data Visualization"
   ]
  },
  {
   "cell_type": "code",
   "execution_count": 11,
   "id": "990f52ee",
   "metadata": {},
   "outputs": [
    {
     "data": {
      "text/plain": [
       "<AxesSubplot:xlabel='sex', ylabel='count'>"
      ]
     },
     "execution_count": 11,
     "metadata": {},
     "output_type": "execute_result"
    },
    {
     "data": {
      "image/png": "[encoded data removed]",
      "text/plain": [
       "<Figure size 640x480 with 1 Axes>"
      ]
     },
     "metadata": {},
     "output_type": "display_data"
    }
   ],
   "source": [
    "#What is the balance of Men to Women in our data set?\n",
    "sns.countplot(x=df['sex'])"
   ]
  },
  {
   "cell_type": "markdown",
   "id": "c83eede2",
   "metadata": {},
   "source": [
    "It seems pretty balanced"
   ]
  },
  {
   "cell_type": "code",
   "execution_count": 12,
   "id": "1a36c2a4",
   "metadata": {},
   "outputs": [
    {
     "data": {
      "text/plain": [
       "<AxesSubplot:xlabel='sex', ylabel='count'>"
      ]
     },
     "execution_count": 12,
     "metadata": {},
     "output_type": "execute_result"
    },
    {
     "data": {
      "image/png": "[encoded data removed]",
      "text/plain": [
       "<Figure size 640x480 with 1 Axes>"
      ]
     },
     "metadata": {},
     "output_type": "display_data"
    }
   ],
   "source": [
    "#Do men smoke more than women?\n",
    "sns.countplot(data=df, x=\"sex\", hue=\"smoker\")"
   ]
  },
  {
   "cell_type": "markdown",
   "id": "30c01730",
   "metadata": {},
   "source": [
    "It seems yes , but Hypothesis testing will allow us to have a clearer answer"
   ]
  },
  {
   "cell_type": "code",
   "execution_count": 13,
   "id": "dac4ed1f",
   "metadata": {},
   "outputs": [
    {
     "data": {
      "text/plain": [
       "<AxesSubplot:xlabel='smoker', ylabel='charges'>"
      ]
     },
     "execution_count": 13,
     "metadata": {},
     "output_type": "execute_result"
    },
    {
     "data": {
      "image/png": "[encoded data removed]",
      "text/plain": [
       "<Figure size 640x480 with 1 Axes>"
      ]
     },
     "metadata": {},
     "output_type": "display_data"
    }
   ],
   "source": [
    "#Do smokers have higher insurance charges than non-smokers?\n",
    "sns.barplot(data=df, x='smoker', y='charges')"
   ]
  },
  {
   "cell_type": "markdown",
   "id": "6b8db491",
   "metadata": {},
   "source": [
    "This seems like a definite yes, it will be either confirmed or denied below with the hypothesis testing"
   ]
  },
  {
   "cell_type": "code",
   "execution_count": 14,
   "id": "d32fa3d6",
   "metadata": {},
   "outputs": [
    {
     "data": {
      "text/plain": [
       "<AxesSubplot:xlabel='region', ylabel='charges'>"
      ]
     },
     "execution_count": 14,
     "metadata": {},
     "output_type": "execute_result"
    },
    {
     "data": {
      "image/png": "[encoded data removed]",
      "text/plain": [
       "<Figure size 640x480 with 1 Axes>"
      ]
     },
     "metadata": {},
     "output_type": "display_data"
    }
   ],
   "source": [
    "#Do different regions have different charges, on average?\n",
    "sns.barplot(data=df, x='region', y='charges')"
   ]
  },
  {
   "cell_type": "markdown",
   "id": "ab3c3216",
   "metadata": {},
   "source": [
    "It seems like it. To be confirmed with hypothesis testing"
   ]
  },
  {
   "cell_type": "markdown",
   "id": "db8037dc",
   "metadata": {},
   "source": [
    "# Hypothesis Testing"
   ]
  },
  {
   "cell_type": "markdown",
   "id": "6e5fac98",
   "metadata": {},
   "source": [
    "## Do smokers have higher insurance charges than non-smokers?"
   ]
  },
  {
   "cell_type": "markdown",
   "id": "5585a0ac",
   "metadata": {},
   "source": [
    "**Null Hypothesis:** Smokers and non-smokers have the same insurance charges.\n",
    "\n",
    "**Alternative Hypothesis:** Smokers and non-smokers have different insurance charges.\n",
    "\n",
    "**Alpha:** We will be using an alpha= 0.05"
   ]
  },
  {
   "cell_type": "markdown",
   "id": "92f5571b",
   "metadata": {},
   "source": [
    "Smokers and non-smokers must be from different groups, so we will want to perform an independent t-test"
   ]
  },
  {
   "cell_type": "code",
   "execution_count": 17,
   "id": "6fe560dd",
   "metadata": {},
   "outputs": [
    {
     "data": {
      "text/html": [
       "<div>\n",
       "<style scoped>\n",
       "    .dataframe tbody tr th:only-of-type {\n",
       "        vertical-align: middle;\n",
       "    }\n",
       "\n",
       "    .dataframe tbody tr th {\n",
       "        vertical-align: top;\n",
       "    }\n",
       "\n",
       "    .dataframe thead th {\n",
       "        text-align: right;\n",
       "    }\n",
       "</style>\n",
       "<table border=\"1\" class=\"dataframe\">\n",
       "  <thead>\n",
       "    <tr style=\"text-align: right;\">\n",
       "      <th></th>\n",
       "      <th>age</th>\n",
       "      <th>sex</th>\n",
       "      <th>bmi</th>\n",
       "      <th>children</th>\n",
       "      <th>smoker</th>\n",
       "      <th>region</th>\n",
       "      <th>charges</th>\n",
       "    </tr>\n",
       "  </thead>\n",
       "  <tbody>\n",
       "    <tr>\n",
       "      <th>0</th>\n",
       "      <td>19</td>\n",
       "      <td>female</td>\n",
       "      <td>27.90</td>\n",
       "      <td>0</td>\n",
       "      <td>yes</td>\n",
       "      <td>southwest</td>\n",
       "      <td>16884.9240</td>\n",
       "    </tr>\n",
       "    <tr>\n",
       "      <th>11</th>\n",
       "      <td>62</td>\n",
       "      <td>female</td>\n",
       "      <td>26.29</td>\n",
       "      <td>0</td>\n",
       "      <td>yes</td>\n",
       "      <td>southeast</td>\n",
       "      <td>27808.7251</td>\n",
       "    </tr>\n",
       "  </tbody>\n",
       "</table>\n",
       "</div>"
      ],
      "text/plain": [
       "    age     sex    bmi  children smoker     region     charges\n",
       "0    19  female  27.90         0    yes  southwest  16884.9240\n",
       "11   62  female  26.29         0    yes  southeast  27808.7251"
      ]
     },
     "execution_count": 17,
     "metadata": {},
     "output_type": "execute_result"
    }
   ],
   "source": [
    "#smoker df\n",
    "smoker_df = df.loc[df['smoker']== 'yes']\n",
    "smoker_df.head(2)"
   ]
  },
  {
   "cell_type": "code",
   "execution_count": 18,
   "id": "406078f1",
   "metadata": {},
   "outputs": [
    {
     "data": {
      "text/html": [
       "<div>\n",
       "<style scoped>\n",
       "    .dataframe tbody tr th:only-of-type {\n",
       "        vertical-align: middle;\n",
       "    }\n",
       "\n",
       "    .dataframe tbody tr th {\n",
       "        vertical-align: top;\n",
       "    }\n",
       "\n",
       "    .dataframe thead th {\n",
       "        text-align: right;\n",
       "    }\n",
       "</style>\n",
       "<table border=\"1\" class=\"dataframe\">\n",
       "  <thead>\n",
       "    <tr style=\"text-align: right;\">\n",
       "      <th></th>\n",
       "      <th>age</th>\n",
       "      <th>sex</th>\n",
       "      <th>bmi</th>\n",
       "      <th>children</th>\n",
       "      <th>smoker</th>\n",
       "      <th>region</th>\n",
       "      <th>charges</th>\n",
       "    </tr>\n",
       "  </thead>\n",
       "  <tbody>\n",
       "    <tr>\n",
       "      <th>1</th>\n",
       "      <td>18</td>\n",
       "      <td>male</td>\n",
       "      <td>33.77</td>\n",
       "      <td>1</td>\n",
       "      <td>no</td>\n",
       "      <td>southeast</td>\n",
       "      <td>1725.5523</td>\n",
       "    </tr>\n",
       "    <tr>\n",
       "      <th>2</th>\n",
       "      <td>28</td>\n",
       "      <td>male</td>\n",
       "      <td>33.00</td>\n",
       "      <td>3</td>\n",
       "      <td>no</td>\n",
       "      <td>southeast</td>\n",
       "      <td>4449.4620</td>\n",
       "    </tr>\n",
       "  </tbody>\n",
       "</table>\n",
       "</div>"
      ],
      "text/plain": [
       "   age   sex    bmi  children smoker     region    charges\n",
       "1   18  male  33.77         1     no  southeast  1725.5523\n",
       "2   28  male  33.00         3     no  southeast  4449.4620"
      ]
     },
     "execution_count": 18,
     "metadata": {},
     "output_type": "execute_result"
    }
   ],
   "source": [
    "#non-smoker df\n",
    "non_smoker_df = df.loc[df['smoker']== 'no']\n",
    "non_smoker_df.head(2)"
   ]
  },
  {
   "cell_type": "code",
   "execution_count": 21,
   "id": "3086498a",
   "metadata": {},
   "outputs": [
    {
     "data": {
      "text/plain": [
       "0"
      ]
     },
     "execution_count": 21,
     "metadata": {},
     "output_type": "execute_result"
    }
   ],
   "source": [
    "#checking for outliers with z-scores > 3 for smokers\n",
    "smoke = df['smoker']== 'yes'\n",
    "zscores_s = stats.zscore(smoke)\n",
    "outliers_s = abs(zscores_s)>3\n",
    "np.sum(outliers_s)"
   ]
  },
  {
   "cell_type": "code",
   "execution_count": 23,
   "id": "7608a3f5",
   "metadata": {},
   "outputs": [
    {
     "data": {
      "text/plain": [
       "0"
      ]
     },
     "execution_count": 23,
     "metadata": {},
     "output_type": "execute_result"
    }
   ],
   "source": [
    "#checking for outliers with z-scores > 3 for non-smokers\n",
    "no_smoke = df['smoker']== 'no'\n",
    "zscores_ns = stats.zscore(no_smoke)\n",
    "outliers_ns = abs(zscores_ns)>3\n",
    "np.sum(outliers_ns)"
   ]
  },
  {
   "cell_type": "code",
   "execution_count": 31,
   "id": "b859ae6f",
   "metadata": {},
   "outputs": [
    {
     "name": "stdout",
     "output_type": "stream",
     "text": [
      "Both groups do not have equal variance\n",
      "LeveneResult(statistic=332.47137394800666, pvalue=1.670117565125241e-66)\n"
     ]
    }
   ],
   "source": [
    "# Test for equal variance\n",
    "Var_smoker_result = stats.levene(smoker_df['charges'], non_smoker_df['charges'])\n",
    "stat, p = levene(smoker_df['charges'], non_smoker_df['charges'])\n",
    "if p > 0.05: \n",
    "    print(f'Both groups have equal variance')\n",
    "else:\n",
    "    print(f'Both groups do not have equal variance')\n",
    "print(Var_smoker_result)"
   ]
  },
  {
   "cell_type": "code",
   "execution_count": 32,
   "id": "a0a89ae2",
   "metadata": {},
   "outputs": [
    {
     "name": "stdout",
     "output_type": "stream",
     "text": [
      "Smokers and non-smokers have different insurance charges\n",
      "Ttest_indResult(statistic=32.7423097372529, pvalue=6.261720774727631e-103)\n"
     ]
    }
   ],
   "source": [
    "# Independent t-test with equal_var set to False\n",
    "smoker_result = stats.ttest_ind(smoker_df['charges'], non_smoker_df['charges'], equal_var = False)\n",
    "stat, p = stats.ttest_ind(smoker_df['charges'], non_smoker_df['charges'])\n",
    "if p > 0.05: \n",
    "    print(f'Smokers and non-smokers have the same insurance charges')\n",
    "else:\n",
    "    print(f'Smokers and non-smokers have different insurance charges')\n",
    "print(smoker_result) "
   ]
  },
  {
   "cell_type": "markdown",
   "id": "fd478596",
   "metadata": {},
   "source": [
    "## Are men more likely to smoke than women?"
   ]
  },
  {
   "cell_type": "markdown",
   "id": "a2c27f83",
   "metadata": {},
   "source": [
    "**Null Hypothesis:** Men and Women have the same likelihood of smoking.\n",
    "\n",
    "**Alternative Hypothesis:** Men are more likely to smoke than women.\n",
    "\n",
    "**Alpha:** We will be using an alpha= 0.05"
   ]
  },
  {
   "cell_type": "markdown",
   "id": "df3660fd",
   "metadata": {},
   "source": [
    "I will run the Chi-Squared Test for this case"
   ]
  },
  {
   "cell_type": "code",
   "execution_count": 33,
   "id": "7808993e",
   "metadata": {},
   "outputs": [
    {
     "data": {
      "text/html": [
       "<div>\n",
       "<style scoped>\n",
       "    .dataframe tbody tr th:only-of-type {\n",
       "        vertical-align: middle;\n",
       "    }\n",
       "\n",
       "    .dataframe tbody tr th {\n",
       "        vertical-align: top;\n",
       "    }\n",
       "\n",
       "    .dataframe thead th {\n",
       "        text-align: right;\n",
       "    }\n",
       "</style>\n",
       "<table border=\"1\" class=\"dataframe\">\n",
       "  <thead>\n",
       "    <tr style=\"text-align: right;\">\n",
       "      <th>smoker</th>\n",
       "      <th>no</th>\n",
       "      <th>yes</th>\n",
       "    </tr>\n",
       "    <tr>\n",
       "      <th>sex</th>\n",
       "      <th></th>\n",
       "      <th></th>\n",
       "    </tr>\n",
       "  </thead>\n",
       "  <tbody>\n",
       "    <tr>\n",
       "      <th>female</th>\n",
       "      <td>547</td>\n",
       "      <td>115</td>\n",
       "    </tr>\n",
       "    <tr>\n",
       "      <th>male</th>\n",
       "      <td>516</td>\n",
       "      <td>159</td>\n",
       "    </tr>\n",
       "  </tbody>\n",
       "</table>\n",
       "</div>"
      ],
      "text/plain": [
       "smoker   no  yes\n",
       "sex             \n",
       "female  547  115\n",
       "male    516  159"
      ]
     },
     "execution_count": 33,
     "metadata": {},
     "output_type": "execute_result"
    }
   ],
   "source": [
    "# calculate the contingency table with pd.cross-tab\n",
    "table = pd.crosstab(df['sex'], df['smoker'])\n",
    "table"
   ]
  },
  {
   "cell_type": "code",
   "execution_count": 35,
   "id": "89c1910f",
   "metadata": {},
   "outputs": [
    {
     "name": "stdout",
     "output_type": "stream",
     "text": [
      "Men are more likely to smoke than women\n",
      "0.0062765550120107375\n"
     ]
    }
   ],
   "source": [
    "#run the chi test\n",
    "chi2, p, deg_free, expected_vals = stats.chi2_contingency(table)\n",
    "if p > 0.05: \n",
    "    print(f'Men and Women have the same likelihood of smoking')\n",
    "else:\n",
    "    print(f'Men are more likely to smoke than women')\n",
    "print(p)"
   ]
  },
  {
   "cell_type": "markdown",
   "id": "804537c0",
   "metadata": {},
   "source": [
    "## Do different regions have different charges, on average?"
   ]
  },
  {
   "cell_type": "markdown",
   "id": "db5f8e17",
   "metadata": {},
   "source": [
    "**Null Hypothesis:** On average, all regions have the same charges.\n",
    "\n",
    "**Alternative Hypothesis:** On average, the regions have different charges.\n",
    "\n",
    "**Alpha:** We will be using an alpha= 0.05"
   ]
  },
  {
   "cell_type": "markdown",
   "id": "f7a17280",
   "metadata": {},
   "source": [
    "I'll use Tukey's Pairwise Multiple Comparisons Test"
   ]
  },
  {
   "cell_type": "code",
   "execution_count": 37,
   "id": "654ce3db",
   "metadata": {},
   "outputs": [
    {
     "data": {
      "text/html": [
       "<table class=\"simpletable\">\n",
       "<caption>Multiple Comparison of Means - Tukey HSD, FWER=0.05</caption>\n",
       "<tr>\n",
       "   <th>group1</th>    <th>group2</th>    <th>meandiff</th>   <th>p-adj</th>    <th>lower</th>     <th>upper</th>   <th>reject</th>\n",
       "</tr>\n",
       "<tr>\n",
       "  <td>northeast</td> <td>northwest</td>  <td>-955.5437</td> <td>0.7457</td> <td>-3397.7353</td> <td>1486.648</td>   <td>False</td>\n",
       "</tr>\n",
       "<tr>\n",
       "  <td>northeast</td> <td>southeast</td>  <td>1329.0269</td> <td>0.4746</td> <td>-1045.1237</td> <td>3703.1776</td>  <td>False</td>\n",
       "</tr>\n",
       "<tr>\n",
       "  <td>northeast</td> <td>southwest</td> <td>-1059.4471</td> <td>0.6793</td> <td>-3499.7595</td> <td>1380.8652</td>  <td>False</td>\n",
       "</tr>\n",
       "<tr>\n",
       "  <td>northwest</td> <td>southeast</td>  <td>2284.5706</td> <td>0.0643</td>   <td>-89.58</td>   <td>4658.7212</td>  <td>False</td>\n",
       "</tr>\n",
       "<tr>\n",
       "  <td>northwest</td> <td>southwest</td>  <td>-103.9035</td> <td>0.9995</td> <td>-2544.2158</td> <td>2336.4088</td>  <td>False</td>\n",
       "</tr>\n",
       "<tr>\n",
       "  <td>southeast</td> <td>southwest</td> <td>-2388.4741</td> <td>0.0477</td> <td>-4760.6915</td> <td>-16.2567</td>   <td>True</td> \n",
       "</tr>\n",
       "</table>"
      ],
      "text/plain": [
       "<class 'statsmodels.iolib.table.SimpleTable'>"
      ]
     },
     "execution_count": 37,
     "metadata": {},
     "output_type": "execute_result"
    }
   ],
   "source": [
    "## save the values as charges and the labels for the regions\n",
    "values = df['charges']\n",
    "labels = df['region']\n",
    "\n",
    "## perform tukey's multiple comparison test and display the summary\n",
    "tukeys_results = pairwise_tukeyhsd(values,labels)\n",
    "tukeys_results.summary()"
   ]
  },
  {
   "cell_type": "markdown",
   "id": "d0bc9edc",
   "metadata": {},
   "source": [
    "On average all regions have different charges with the exception of a difference between southeast and the southwest region."
   ]
  }
 ],
 "metadata": {
  "kernelspec": {
   "display_name": "Python (dojo-env)",
   "language": "python",
   "name": "dojo-env"
  },
  "language_info": {
   "codemirror_mode": {
    "name": "ipython",
    "version": 3
   },
   "file_extension": ".py",
   "mimetype": "text/x-python",
   "name": "python",
   "nbconvert_exporter": "python",
   "pygments_lexer": "ipython3",
   "version": "3.8.13"
  },
  "toc": {
   "base_numbering": 1,
   "nav_menu": {},
   "number_sections": false,
   "sideBar": true,
   "skip_h1_title": false,
   "title_cell": "Table of Contents",
   "title_sidebar": "Contents",
   "toc_cell": false,
   "toc_position": {},
   "toc_section_display": true,
   "toc_window_display": false
  }
 },
 "nbformat": 4,
 "nbformat_minor": 5
}
